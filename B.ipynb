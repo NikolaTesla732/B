{
 "cells": [
  {
   "cell_type": "code",
   "execution_count": null,
   "id": "initial_id",
   "metadata": {
    "collapsed": true
   },
   "outputs": [],
   "source": [
    "import os\n",
    "import cv2\n",
    "import numpy as np\n",
    "import pandas as pd\n",
    "from sklearn.model_selection import train_test_split\n",
    "import tensorflow as tf\n",
    "from tensorflow.keras.applications import MobileNetV2\n",
    "from tensorflow.keras.layers import GlobalAveragePooling2D, Dense, Dropout\n",
    "from tensorflow.keras.models import Model\n",
    "from tensorflow.keras.optimizers import Adam"
   ]
  },
  {
   "metadata": {},
   "cell_type": "code",
   "outputs": [],
   "execution_count": null,
   "source": [
    "images_folder = \"path/to/images_folder\"  \n",
    "csv_path = \"path/to/annotations.csv\"     \n",
    "df = pd.read_csv(csv_path)"
   ],
   "id": "67e763037a746274"
  },
  {
   "metadata": {},
   "cell_type": "code",
   "outputs": [],
   "execution_count": null,
   "source": [
    "def image_exists(image_name):\n",
    "    return os.path.isfile(os.path.join(images_folder, image_name))"
   ],
   "id": "f9d9b38b9602fb87"
  },
  {
   "metadata": {},
   "cell_type": "code",
   "outputs": [],
   "execution_count": null,
   "source": [
    "df = df[df['image_name'].apply(image_exists)]\n",
    "annotated_images = set(df['image_name'].unique())\n",
    "all_images = set(os.listdir(images_folder))\n",
    "negative_images = list(all_images - annotated_images)"
   ],
   "id": "4ddcf7d24459dc6a"
  },
  {
   "metadata": {},
   "cell_type": "code",
   "outputs": [],
   "execution_count": null,
   "source": [
    "IMG_SIZE = 224\n",
    "data = []    \n",
    "labels = []   "
   ],
   "id": "c9160064a781f660"
  },
  {
   "metadata": {},
   "cell_type": "code",
   "outputs": [],
   "execution_count": null,
   "source": [
    "for idx, row in df.iterrows():\n",
    "    img_path = os.path.join(images_folder, row['image_name'])\n",
    "    img = cv2.imread(img_path)\n",
    "    if img is None:\n",
    "        continue  \n",
    "    x0, y0, x1, y1 = int(row['x0']), int(row['y0']), int(row['x1']), int(row['y1'])\n",
    "    face_img = img[y0:y1, x0:x1]\n",
    "    if face_img.size == 0:\n",
    "        continue \n",
    "    face_img = cv2.resize(face_img, (IMG_SIZE, IMG_SIZE))\n",
    "    face_img = cv2.cvtColor(face_img, cv2.COLOR_BGR2RGB)\n",
    "    face_img = face_img.astype(\"float32\") / 255.0\n",
    "    data.append(face_img)\n",
    "    labels.append(1)  "
   ],
   "id": "76c72572308314e0"
  },
  {
   "metadata": {},
   "cell_type": "code",
   "outputs": [],
   "execution_count": null,
   "source": [
    "for image_name in negative_images:\n",
    "    img_path = os.path.join(images_folder, image_name)\n",
    "    img = cv2.imread(img_path)\n",
    "    if img is None:\n",
    "        continue\n",
    "    img_resized = cv2.resize(img, (IMG_SIZE, IMG_SIZE))\n",
    "    img_resized = cv2.cvtColor(img_resized, cv2.COLOR_BGR2RGB)\n",
    "    img_resized = img_resized.astype(\"float32\") / 255.0\n",
    "    data.append(img_resized)\n",
    "    labels.append(0)  "
   ],
   "id": "51c653c5bca9ba03"
  },
  {
   "metadata": {},
   "cell_type": "code",
   "outputs": [],
   "execution_count": null,
   "source": [
    "x = np.array(data)\n",
    "y = np.array(labels)\n",
    "\n",
    "# Разбиваем данные на обучающую и валидационную выборки (80% - 20%).\n",
    "X_train, X_val, y_train, y_val = train_test_split(X, y, test_size=0.2, random_state=42)"
   ],
   "id": "352cf70dce57588a"
  },
  {
   "metadata": {},
   "cell_type": "code",
   "outputs": [],
   "execution_count": null,
   "source": [
    "base_model = MobileNetV2(weights='imagenet', include_top=False, input_shape=(IMG_SIZE, IMG_SIZE, 3))\n",
    "\n",
    "\n",
    "for layer in base_model.layers:\n",
    "    layer.trainable = False\n",
    "\n",
    "\n",
    "x = base_model.output\n",
    "x = GlobalAveragePooling2D()(x)\n",
    "x = Dense(128, activation='relu')(x)\n",
    "x = Dropout(0.5)(x)\n",
    "\n",
    "output = Dense(1, activation='sigmoid', name='face_output')(x)\n",
    "\n",
    "\n",
    "model = Model(inputs=base_model.input, outputs=output)\n",
    "\n",
    "model.compile(optimizer=Adam(learning_rate=0.001),\n",
    "              loss='binary_crossentropy',\n",
    "              metrics=['accuracy'])\n",
    "\n",
    "model.summary()\n",
    "\n",
    "history = model.fit(X_train, y_train,\n",
    "                    validation_data=(X_val, y_val),\n",
    "                    epochs=10, batch_size=32)\n",
    "\n",
    "\n",
    "model.save(\"trained_face_detection_model.h5\")"
   ],
   "id": "bc3050b545277e70"
  }
 ],
 "metadata": {
  "kernelspec": {
   "display_name": "Python 3",
   "language": "python",
   "name": "python3"
  },
  "language_info": {
   "codemirror_mode": {
    "name": "ipython",
    "version": 2
   },
   "file_extension": ".py",
   "mimetype": "text/x-python",
   "name": "python",
   "nbconvert_exporter": "python",
   "pygments_lexer": "ipython2",
   "version": "2.7.6"
  }
 },
 "nbformat": 4,
 "nbformat_minor": 5
}
